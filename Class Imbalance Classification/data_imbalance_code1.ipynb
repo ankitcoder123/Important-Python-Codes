{
 "cells": [
  {
   "cell_type": "code",
   "execution_count": 1,
   "id": "bdd019aa",
   "metadata": {
    "lines_to_next_cell": 0
   },
   "outputs": [],
   "source": [
    "\n",
    "# -*- coding: utf-8 -*-\n",
    "\"\"\"\n",
    "Created on Wed Jan 19 18:24:48 2022\n",
    "\n",
    "@author: ankit\n",
    "\"\"\"\n",
    "   \n",
    "    \n",
    "import os\n",
    "os.chdir(r\"C:\\Users\\ankit\\OneDrive\\Desktop\\data_Imbalance_code_titanic\")\n",
    "import itertools \n",
    "from tqdm import tqdm\n",
    "import xgboost as xgb\n",
    "import matplotlib.pyplot as plt\n",
    "import seaborn as sns\n",
    "from sklearn.model_selection import train_test_split\n",
    "import numpy as np\n",
    "import random\n",
    "RANDOM_SEED = 10\n",
    "np.random.seed(RANDOM_SEED)\n",
    "random.seed(RANDOM_SEED)\n",
    "import warnings\n",
    "warnings.filterwarnings(\"ignore\")\n",
    "import shap\n",
    "from sklearn.metrics import roc_auc_score,classification_report,roc_curve,confusion_matrix\n",
    "import pandas as pd"
   ]
  },
  {
   "cell_type": "code",
   "execution_count": 2,
   "id": "a761beee",
   "metadata": {},
   "outputs": [],
   "source": [
    "def plot_confusion_matrix(cm, classes,\n",
    "                          normalize=False,\n",
    "                          title='Confusion matrix',\n",
    "                          cmap=plt.cm.Pastel1):\n",
    "    \"\"\"\n",
    "    This function prints and plots the confusion matrix.\n",
    "    Normalization can be applied by setting `normalize=True`.\n",
    "    \"\"\"\n",
    "    print(\"------\")\n",
    "    print(\"Plot confusion matrix...\")\n",
    "    print(\"------\")\n",
    "    plt.imshow(cm, interpolation='nearest', cmap=cmap)\n",
    "    plt.title(title)\n",
    "    plt.colorbar()\n",
    "    tick_marks = np.arange(len(classes))\n",
    "    plt.xticks(tick_marks, classes, rotation=0)\n",
    "    plt.yticks(tick_marks, classes)\n",
    "\n",
    "    if normalize:\n",
    "        cm = np.round(cm.astype('float') / cm.sum(axis=1)[:, np.newaxis],4)*100 \n",
    "        print(\"Normalized confusion matrix\")\n",
    "    else:\n",
    "        print('Confusion matrix, without normalization')\n",
    " \n",
    "    thresh = cm.max() / 2.\n",
    "    for i, j in itertools.product(range(cm.shape[0]), range(cm.shape[1])):\n",
    "        plt.text(j, i, cm[i, j],\n",
    "                 horizontalalignment=\"center\",\n",
    "                 color=\"black\" if cm[i, j] > thresh else \"black\")\n",
    "    plt.rcParams.update({'font.size': 42})\n",
    "    plt.rcParams['xtick.labelsize']=12\n",
    "    plt.rcParams['ytick.labelsize']=12\n",
    "#    plt.tight_layout()\n",
    "    plt.ylabel('True label')\n",
    "    plt.xlabel('Predicted label')\n",
    "\n",
    "\n",
    "def ABS_SHAP(df_shap,df):\n",
    "    #import matplotlib as plt\n",
    "    # Make a copy of the input data\n",
    "    shap_v = pd.DataFrame(df_shap)\n",
    "    feature_list = df.columns\n",
    "    shap_v.columns = feature_list\n",
    "    df_v = df.copy().reset_index().drop('index',axis=1)\n",
    "    \n",
    "    # Determine the correlation in order to plot with different colors\n",
    "    corr_list = list()\n",
    "    for i in feature_list:\n",
    "        b = np.corrcoef(shap_v[i],df_v[i])[1][0]\n",
    "        corr_list.append(b)\n",
    "    corr_df = pd.concat([pd.Series(feature_list),pd.Series(corr_list)],axis=1).fillna(0)\n",
    "    # Make a data frame. Column 1 is the feature, and Column 2 is the correlation coefficient\n",
    "    corr_df.columns  = ['Variable','Corr']\n",
    "    corr_df['Sign'] = np.where(corr_df['Corr']>0,'red','blue')\n",
    "    \n",
    "    # Plot it\n",
    "    shap_abs = np.abs(shap_v)\n",
    "    k=pd.DataFrame(shap_abs.mean()).reset_index()\n",
    "    k.columns = ['Variable','SHAP_abs']\n",
    "    k2 = k.merge(corr_df,left_on = 'Variable',right_on='Variable',how='inner')\n",
    "    k2 = k2.sort_values(by='SHAP_abs',ascending = True)\n",
    "    colorlist = k2['Sign']\n",
    "    ax = k2.plot.barh(x='Variable',y='SHAP_abs',color = colorlist, figsize=(10,10),legend=False)\n",
    "    ax.set_xlabel(\"SHAP Value (Red = Positive Impact on Positive Impact on Class 1)\",size = 12)\n",
    "    ax.tick_params(axis='y', which='major', labelsize=16)\n",
    "    ax.tick_params(axis='x', which='major', labelsize=16)\n",
    "    ax.set_ylabel('Features',size = 12)"
   ]
  },
  {
   "cell_type": "code",
   "execution_count": 3,
   "id": "81ca4358",
   "metadata": {
    "lines_to_next_cell": 0
   },
   "outputs": [
    {
     "name": "stdout",
     "output_type": "stream",
     "text": [
      "Null Values ----\n",
      "Survived      0\n",
      "Pclass        0\n",
      "Sex           0\n",
      "Age         177\n",
      "SibSp         0\n",
      "Parch         0\n",
      "Fare          0\n",
      "Embarked      2\n",
      "dtype: int64\n"
     ]
    }
   ],
   "source": [
    "data = pd.read_csv(\"train.csv\")\n",
    "data = data[['Survived', 'Pclass','Sex', 'Age', 'SibSp',\n",
    "       'Parch', 'Fare', 'Embarked']]\n",
    "data.Sex = data.Sex.map({'male':1,'female':2})\n",
    "print(\"Null Values ----\")\n",
    "print(data.isnull().sum())"
   ]
  },
  {
   "cell_type": "code",
   "execution_count": 4,
   "id": "f1fa6849",
   "metadata": {
    "lines_to_next_cell": 0
   },
   "outputs": [
    {
     "name": "stdout",
     "output_type": "stream",
     "text": [
      "Null Values ----\n",
      "Survived      0\n",
      "Pclass        0\n",
      "Sex           0\n",
      "Age         177\n",
      "SibSp         0\n",
      "Parch         0\n",
      "Fare          0\n",
      "Embarked      0\n",
      "dtype: int64\n"
     ]
    }
   ],
   "source": [
    "data.Embarked.fillna(data.Embarked.mode()[0], inplace=True)\n",
    "data.Embarked = data.Embarked.map({'S':1,'C':2,'Q':3})\n",
    "print(\"Null Values ----\")\n",
    "print(data.isnull().sum())"
   ]
  },
  {
   "cell_type": "code",
   "execution_count": 5,
   "id": "87335e25",
   "metadata": {
    "lines_to_next_cell": 0
   },
   "outputs": [
    {
     "name": "stdout",
     "output_type": "stream",
     "text": [
      "Null Values ----\n",
      "Survived    0\n",
      "Pclass      0\n",
      "Sex         0\n",
      "Age         0\n",
      "SibSp       0\n",
      "Parch       0\n",
      "Fare        0\n",
      "Embarked    0\n",
      "dtype: int64\n"
     ]
    }
   ],
   "source": [
    "data.Age = data.Age.fillna(data.groupby('Sex')['Age'].transform('mean'))\n",
    "print(\"Null Values ----\")\n",
    "print(data.isnull().sum())"
   ]
  },
  {
   "cell_type": "code",
   "execution_count": 6,
   "id": "e5ce981e",
   "metadata": {
    "lines_to_next_cell": 0
   },
   "outputs": [
    {
     "name": "stdout",
     "output_type": "stream",
     "text": [
      "Class proportion\n",
      "0    61.616162\n",
      "1    38.383838\n",
      "Name: Survived, dtype: float64\n",
      "Class counts\n",
      "0    549\n",
      "1    342\n",
      "Name: Survived, dtype: int64\n"
     ]
    }
   ],
   "source": [
    "print(\"Class proportion\")\n",
    "print((data.Survived.value_counts()/data.shape[0])*100)\n",
    "print(\"Class counts\")\n",
    "print((data.Survived.value_counts()))"
   ]
  },
  {
   "cell_type": "code",
   "execution_count": 7,
   "id": "25e45c4e",
   "metadata": {
    "lines_to_next_cell": 0
   },
   "outputs": [
    {
     "name": "stderr",
     "output_type": "stream",
     "text": [
      "100%|████████████████████████████████████████████████████████████████████████████████| 100/100 [00:24<00:00,  4.13it/s]\n"
     ]
    }
   ],
   "source": [
    "## Bootstrapping to get important Features\n",
    "\n",
    "features = ['Pclass','Sex', 'Age', 'SibSp','Parch', 'Fare', 'Embarked']\n",
    "target_col = ['Survived']\n",
    "sample_size_minority = 300\n",
    "sample_size_majority = 500\n",
    "runs = 100\n",
    "\n",
    "appended_feature_imp = []\n",
    "for k in tqdm(range(runs)):\n",
    "    temp = data.copy()\n",
    "    temp_minority = temp.loc[temp.Survived==1,].sample(sample_size_minority)\n",
    "    temp_majority = temp.loc[temp.Survived!=1,].sample(sample_size_majority)      \n",
    "    data_sample = pd.concat([temp_minority,temp_majority],axis=0).sample(frac=1)\n",
    "    data_sample.reset_index(drop=True, inplace=True)       \n",
    "    labels_ = data_sample[target_col]   \n",
    "    features_ =  data_sample[features]  \n",
    "    features_train, features_test, labels_train, labels_test = train_test_split(features_, labels_,\n",
    "                                                    stratify=labels_, test_size=0.2)\n",
    "    model = xgb.XGBClassifier(random_state=RANDOM_SEED,objective='binary:logistic')    \n",
    "    eval_set = [(features_train, labels_train), (features_test, labels_test)]\n",
    "    model.fit(features_train, labels_train.values.ravel(), early_stopping_rounds=20, \n",
    "              eval_metric=[\"auc\"], eval_set=eval_set, verbose=False)\n",
    "    results=pd.DataFrame()\n",
    "    results['columns']=features_.columns\n",
    "    results['importances'] = model.feature_importances_\n",
    "    appended_feature_imp.append(results)"
   ]
  },
  {
   "cell_type": "code",
   "execution_count": 8,
   "id": "bc9058d6",
   "metadata": {
    "lines_to_next_cell": 0
   },
   "outputs": [
    {
     "data": {
      "image/png": "[encoded data removed]",
      "text/plain": [
       "<Figure size 432x288 with 1 Axes>"
      ]
     },
     "metadata": {
      "needs_background": "light"
     },
     "output_type": "display_data"
    }
   ],
   "source": [
    "results = pd.concat(appended_feature_imp, axis=0).groupby(['columns'],as_index=False).mean()\n",
    "results.sort_values(by='importances',ascending=False,inplace=True)\n",
    "results.plot(colormap='Paired',x=\"columns\", y=\"importances\", kind=\"barh\",fontsize = 10,position = 1,color=\"Salmon\")\n",
    "plt.title(\"XgBoost Imp Vars\")\n",
    "\n",
    "del appended_feature_imp,data_sample,eval_set,features,features_,features_test,features_train,k,labels_,labels_test,labels_train,temp,temp_majority,temp_minority"
   ]
  },
  {
   "cell_type": "code",
   "execution_count": 9,
   "id": "ca4d7feb",
   "metadata": {
    "lines_to_next_cell": 2
   },
   "outputs": [
    {
     "name": "stdout",
     "output_type": "stream",
     "text": [
      "No of features to select\n",
      "[0]\tvalidation_0-auc:0.88780\tvalidation_1-auc:0.86614\n",
      "[1]\tvalidation_0-auc:0.89167\tvalidation_1-auc:0.87852\n",
      "[2]\tvalidation_0-auc:0.90544\tvalidation_1-auc:0.87978\n",
      "[3]\tvalidation_0-auc:0.91366\tvalidation_1-auc:0.87484\n",
      "[4]\tvalidation_0-auc:0.91756\tvalidation_1-auc:0.87740\n",
      "[5]\tvalidation_0-auc:0.92105\tvalidation_1-auc:0.88057\n",
      "[6]\tvalidation_0-auc:0.92905\tvalidation_1-auc:0.88393\n",
      "[7]\tvalidation_0-auc:0.93270\tvalidation_1-auc:0.88590\n",
      "[8]\tvalidation_0-auc:0.94033\tvalidation_1-auc:0.89157\n",
      "[9]\tvalidation_0-auc:0.94242\tvalidation_1-auc:0.89223\n",
      "[10]\tvalidation_0-auc:0.94399\tvalidation_1-auc:0.88992\n",
      "[11]\tvalidation_0-auc:0.94623\tvalidation_1-auc:0.88083\n",
      "[12]\tvalidation_0-auc:0.94757\tvalidation_1-auc:0.87872\n",
      "[13]\tvalidation_0-auc:0.94877\tvalidation_1-auc:0.87833\n",
      "[14]\tvalidation_0-auc:0.95007\tvalidation_1-auc:0.87806\n",
      "[15]\tvalidation_0-auc:0.95005\tvalidation_1-auc:0.87648\n",
      "[16]\tvalidation_0-auc:0.95180\tvalidation_1-auc:0.87846\n",
      "[17]\tvalidation_0-auc:0.95231\tvalidation_1-auc:0.87879\n",
      "[18]\tvalidation_0-auc:0.95704\tvalidation_1-auc:0.88057\n",
      "[19]\tvalidation_0-auc:0.95722\tvalidation_1-auc:0.87978\n",
      "[20]\tvalidation_0-auc:0.95981\tvalidation_1-auc:0.87912\n",
      "[21]\tvalidation_0-auc:0.96181\tvalidation_1-auc:0.87642\n",
      "[22]\tvalidation_0-auc:0.96511\tvalidation_1-auc:0.87464\n",
      "[23]\tvalidation_0-auc:0.96584\tvalidation_1-auc:0.87648\n",
      "[24]\tvalidation_0-auc:0.96681\tvalidation_1-auc:0.87688\n",
      "[25]\tvalidation_0-auc:0.96777\tvalidation_1-auc:0.87339\n",
      "[26]\tvalidation_0-auc:0.96783\tvalidation_1-auc:0.87194\n",
      "[27]\tvalidation_0-auc:0.96891\tvalidation_1-auc:0.87181\n",
      "[28]\tvalidation_0-auc:0.97080\tvalidation_1-auc:0.87457\n"
     ]
    },
    {
     "data": {
      "text/plain": [
       "XGBClassifier(base_score=0.5, booster='gbtree', colsample_bylevel=1,\n",
       "              colsample_bynode=1, colsample_bytree=1, enable_categorical=False,\n",
       "              gamma=0, gpu_id=-1, importance_type=None,\n",
       "              interaction_constraints='', learning_rate=0.300000012,\n",
       "              max_delta_step=0, max_depth=6, min_child_weight=1, missing=nan,\n",
       "              monotone_constraints='()', n_estimators=100, n_jobs=8,\n",
       "              num_parallel_tree=1, predictor='auto', random_state=10,\n",
       "              reg_alpha=0, reg_lambda=1, scale_pos_weight=1, subsample=1,\n",
       "              tree_method='exact', validate_parameters=1, verbosity=None)"
      ]
     },
     "execution_count": 9,
     "metadata": {},
     "output_type": "execute_result"
    }
   ],
   "source": [
    "print(\"No of features to select\")\n",
    "top_features = 5\n",
    "features = results.iloc[:top_features,0].tolist()\n",
    "target_col = ['Survived']\n",
    "\n",
    "labels_ = data[target_col]   \n",
    "features_ =  data[features]  \n",
    "features_train, features_test, labels_train, labels_test = train_test_split(features_, labels_,\n",
    "                                                stratify=labels_, test_size=0.2,random_state=RANDOM_SEED)\n",
    "model = xgb.XGBClassifier(random_state=RANDOM_SEED,objective='binary:logistic')    \n",
    "eval_set = [(features_train, labels_train), (features_test, labels_test)]\n",
    "model.fit(features_train, labels_train.values.ravel(), early_stopping_rounds=20, \n",
    "          eval_metric=[\"auc\"], eval_set=eval_set, verbose=True)"
   ]
  },
  {
   "cell_type": "code",
   "execution_count": 10,
   "id": "05f7aa61",
   "metadata": {
    "lines_to_next_cell": 0
   },
   "outputs": [
    {
     "name": "stdout",
     "output_type": "stream",
     "text": [
      "Area Under ROC Curve is ::\n",
      "89.22\n"
     ]
    }
   ],
   "source": [
    "y_pred  = model.predict_proba(features_test)[:,1]\n",
    "y_pred_df = pd.DataFrame({\"actual\":labels_test.Survived.ravel(),\"predicted_prob\":pd.Series(y_pred.ravel())})\n",
    "print(\"Area Under ROC Curve is ::\")\n",
    "print(np.round(roc_auc_score(y_pred_df.actual, y_pred_df.predicted_prob)*100,2))    "
   ]
  },
  {
   "cell_type": "code",
   "execution_count": 11,
   "id": "b6ad2d09",
   "metadata": {
    "lines_to_next_cell": 0
   },
   "outputs": [
    {
     "name": "stdout",
     "output_type": "stream",
     "text": [
      "------\n",
      "Probability Distribution Plot\n",
      "------\n"
     ]
    },
    {
     "data": {
      "image/png": "[encoded data removed]",
      "text/plain": [
       "<Figure size 576x432 with 1 Axes>"
      ]
     },
     "metadata": {
      "needs_background": "light"
     },
     "output_type": "display_data"
    }
   ],
   "source": [
    "## Probability Distribution Plot\n",
    "print(\"------\")\n",
    "print(\"Probability Distribution Plot\")\n",
    "print(\"------\")\n",
    "plt.figure(figsize = (8,6))\n",
    "sns.distplot(y_pred_df[y_pred_df.actual==1][\"predicted_prob\"],kde=False,color=\"r\",label='Survived: 1')\n",
    "sns.distplot(y_pred_df[y_pred_df.actual==0][\"predicted_prob\"],kde=False,color=\"b\",label='Survived: 0')\n",
    "plt.legend()\n",
    "plt.show()"
   ]
  },
  {
   "cell_type": "code",
   "execution_count": 12,
   "id": "03a5346e",
   "metadata": {
    "lines_to_next_cell": 0
   },
   "outputs": [
    {
     "name": "stdout",
     "output_type": "stream",
     "text": [
      "------\n",
      "Finding Optimal Threshold\n",
      "------\n",
      "         tpr       fpr  thresholds      diff\n",
      "31  0.811594  0.090909    0.418086  0.720685\n",
      "30  0.797101  0.081818    0.419795  0.715283\n",
      "35  0.855072  0.163636    0.275203  0.691436\n",
      "28  0.753623  0.072727    0.435596  0.680896\n",
      "26  0.739130  0.063636    0.455568  0.675494\n",
      "-----\n",
      "Optimal Threshold\n",
      "0.41808575\n",
      "-----\n"
     ]
    }
   ],
   "source": [
    "## Finding Optimal Threshold\n",
    "print(\"------\")\n",
    "print(\"Finding Optimal Threshold\")\n",
    "print(\"------\")\n",
    "fpr,tpr,thresholds = roc_curve(y_pred_df.actual,y_pred_df.predicted_prob)\n",
    "tpr_fpr = pd.DataFrame({'tpr':tpr,'fpr':fpr,'thresholds':thresholds})\n",
    "tpr_fpr['diff'] = tpr_fpr.tpr - tpr_fpr.fpr \n",
    "print(tpr_fpr.sort_values('diff',ascending=False).head(5))\n",
    "print(\"-----\")\n",
    "print(\"Optimal Threshold\")\n",
    "threshold = tpr_fpr.loc[tpr_fpr['diff'].idxmax(), 'thresholds'];print(threshold)\n",
    "print(\"-----\")"
   ]
  },
  {
   "cell_type": "code",
   "execution_count": 13,
   "id": "fe18fa48",
   "metadata": {
    "lines_to_next_cell": 0
   },
   "outputs": [
    {
     "name": "stdout",
     "output_type": "stream",
     "text": [
      "------\n",
      "Confusion Matrix\n",
      "------\n",
      "[[101   9]\n",
      " [ 14  55]]\n"
     ]
    }
   ],
   "source": [
    "# Confusion Matrix\n",
    "print(\"------\")\n",
    "print(\"Confusion Matrix\")\n",
    "print(\"------\")\n",
    "y_pred_df['predicted'] = y_pred_df.predicted_prob.map(lambda x: 1 if x > threshold else 0)\n",
    "cm = confusion_matrix(y_pred_df.actual,y_pred_df.predicted)\n",
    "print(cm)"
   ]
  },
  {
   "cell_type": "code",
   "execution_count": 14,
   "id": "1b3faaab",
   "metadata": {
    "lines_to_next_cell": 0
   },
   "outputs": [
    {
     "name": "stdout",
     "output_type": "stream",
     "text": [
      "------\n",
      "Plot confusion matrix...\n",
      "------\n",
      "Confusion matrix, without normalization\n"
     ]
    },
    {
     "data": {
      "image/png": "[encoded data removed]",
      "text/plain": [
       "<Figure size 432x288 with 2 Axes>"
      ]
     },
     "metadata": {
      "needs_background": "light"
     },
     "output_type": "display_data"
    }
   ],
   "source": [
    "class_names = [\"Survived:0\",\"Survived:1\"]\n",
    "plt.figure()\n",
    "plot_confusion_matrix(cm, classes=class_names, title='Confusion matrix')\n",
    "plt.show()"
   ]
  },
  {
   "cell_type": "code",
   "execution_count": 15,
   "id": "3ff7065b",
   "metadata": {},
   "outputs": [
    {
     "name": "stdout",
     "output_type": "stream",
     "text": [
      "------\n",
      " Classification Report\n",
      "------\n",
      "              precision    recall  f1-score     support\n",
      "0              0.878261  0.918182  0.897778  110.000000\n",
      "1              0.859375  0.797101  0.827068   69.000000\n",
      "accuracy       0.871508  0.871508  0.871508    0.871508\n",
      "macro avg      0.868818  0.857642  0.862423  179.000000\n",
      "weighted avg   0.870981  0.871508  0.870521  179.000000\n"
     ]
    }
   ],
   "source": [
    "# Classification Report\n",
    "print(\"------\")\n",
    "print(\" Classification Report\")\n",
    "print(\"------\")\n",
    "\n",
    "metric_df = pd.DataFrame(classification_report(y_pred_df.actual, y_pred_df.predicted, output_dict=True)).transpose()\n",
    "print(metric_df)"
   ]
  },
  {
   "cell_type": "code",
   "execution_count": 16,
   "id": "7d8479bb",
   "metadata": {
    "lines_to_next_cell": 0
   },
   "outputs": [
    {
     "data": {
      "image/png": "[encoded data removed]",
      "text/plain": [
       "<Figure size 576x252 with 1 Axes>"
      ]
     },
     "metadata": {
      "needs_background": "light"
     },
     "output_type": "display_data"
    }
   ],
   "source": [
    "explainer = shap.TreeExplainer(model)\n",
    "shap_values = explainer.shap_values(features_train)\n",
    "shap.summary_plot(shap_values, features_train, plot_type=\"bar\")"
   ]
  },
  {
   "cell_type": "code",
   "execution_count": 17,
   "id": "542919cd",
   "metadata": {},
   "outputs": [
    {
     "data": {
      "image/png": "[encoded data removed]",
      "text/plain": [
       "<Figure size 576x252 with 2 Axes>"
      ]
     },
     "metadata": {
      "needs_background": "light"
     },
     "output_type": "display_data"
    }
   ],
   "source": [
    "shap.summary_plot(shap_values,features_train)   "
   ]
  },
  {
   "cell_type": "code",
   "execution_count": 18,
   "id": "27c15b63",
   "metadata": {},
   "outputs": [
    {
     "data": {
      "image/png": "[encoded data removed]",
      "text/plain": [
       "<Figure size 720x720 with 1 Axes>"
      ]
     },
     "metadata": {
      "needs_background": "light"
     },
     "output_type": "display_data"
    }
   ],
   "source": [
    "ABS_SHAP(shap_values, features_train)"
   ]
  }
 ],
 "metadata": {
  "jupytext": {
   "cell_metadata_filter": "-all",
   "main_language": "python",
   "notebook_metadata_filter": "-all"
  },
  "kernelspec": {
   "display_name": "Python 3",
   "language": "python",
   "name": "python3"
  },
  "language_info": {
   "codemirror_mode": {
    "name": "ipython",
    "version": 3
   },
   "file_extension": ".py",
   "mimetype": "text/x-python",
   "name": "python",
   "nbconvert_exporter": "python",
   "pygments_lexer": "ipython3",
   "version": "3.6.7"
  }
 },
 "nbformat": 4,
 "nbformat_minor": 5
}
